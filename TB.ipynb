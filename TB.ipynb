{
 "cells": [
  {
   "cell_type": "code",
   "execution_count": 1,
   "id": "e99040f8",
   "metadata": {},
   "outputs": [],
   "source": [
    "dna=[]\n",
    "with open(\"files/TB.fna\",\"r\") as f:\n",
    "    dna=list(map(lambda x:x.replace(\"\\n\",\"\").lower(),f.readlines()))"
   ]
  },
  {
   "cell_type": "code",
   "execution_count": 2,
   "id": "9c824617",
   "metadata": {},
   "outputs": [
    {
     "data": {
      "text/plain": [
       "['gcgccccgcccggacagccatgcgctaaccctggcttcgatggcgccggctcagttagggccggaagtccccaatgtggcagacctttcgcccctggcggacgaatgaccccagtggccgggacttcaggccctatcggagggctccggcgcggtggtcggatttgtctgtggaggttacaccccaatcgcaaggatgcattatgaccagcgagctgagcctggtcgccactggaaaggggagcaacatc',\n",
       " 'ccgatcggcatcactatcggtcctgcggccgcccatagcgctatatccggctggtgaaatcaattgacaaccttcgactttgaggtggcctacggcgaggacaagccaggcaagccagctgcctcaacgcgcgccagtacgggtccatcgacccgcggcccacgggtcaaacgaccctagtgttcgctacgacgtggtcgtaccttcggcagcagatcagcaatagcaccccgactcgaggaggatcccg',\n",
       " 'accgtcgatgtgcccggtcgcgccgcgtccacctcggtcatcgaccccacgatgaggacgccatcggccgcgaccaagccccgtgaaactctgacggcgtgctggccgggctgcggcacctgatcaccttagggcacttgggccaccacaacgggccgccggtctcgacagtggccaccaccacacaggtgacttccggcgggacgtaagtccctaacgcgtcgttccgcacgcggttagctttgctgcc',\n",
       " 'gggtcaggtatatttatcgcacacttgggcacatgacacacaagcgccagaatcccggaccgaaccgagcaccgtgggtgggcagcctccatacagcgatgacctgatcgatcatcggccagggcgccgggcttccaaccgtggccgtctcagtacccagcctcattgacccttcgacgcatccactgcgcgtaagtcggctcaaccctttcaaaccgctggattaccgaccgcagaaagggggcaggac',\n",
       " 'gtaggtcaaaccgggtgtacatacccgctcaatcgcccagcacttcgggcagatcaccgggtttccccggtatcaccaatactgccaccaaacacagcaggcgggaaggggcgaaagtcccttatccgacaataaaacttcgcttgttcgacgcccggttcacccgatatgcacggcgcccagccattcgtgaccgacgtccccagccccaaggccgaacgaccctaggagccacgagcaattcacagcg',\n",
       " 'ccgctggcgacgctgttcgccggcagcgtgcgtgacgacttcgagctgcccgactacacctggtgaccaccgccgacgggcacctctccgccaggtaggcacggtttgtcgccggcaatgtgacctttgggcgcggtcttgaggaccttcggccccacccacgaggccgccgccggccgatcgtatgacgtgcaatgtacgccatagggtgcgtgttacggcgattacctgaaggcggcggtggtccgga',\n",
       " 'ggccaactgcaccgcgctcttgatgacatcggtggtcaccatggtgtccggcatgatcaacctccgctgttcgatatcaccccgatctttctgaacggcggttggcagacaacagggtcaatggtccccaagtggatcaccgacgggcgcggacaaatggcccgcgcttcggggacttctgtccctagccctggccacgatgggctggtcggatcaaaggcatccgtttccatcgattaggaggcatcaa',\n",
       " 'gtacatgtccagagcgagcctcagcttctgcgcagcgacggaaactgccacactcaaagcctactgggcgcacgtgtggcaacgagtcgatccacacgaaatgccgccgttgggccgcggactagccgaattttccgggtggtgacacagcccacatttggcatgggactttcggccctgtccgcgtccgtgtcggccagacaagctttgggcattggccacaatcgggccacaatcgaaagccgagcag',\n",
       " 'ggcagctgtcggcaactgtaagccatttctgggactttgctgtgaaaagctgggcgatggttgtggacctggacgagccacccgtgcgataggtgagattcattctcgccctgacgggttgcgtctgtcatcggtcgataaggactaacggccctcaggtggggaccaacgcccctgggagatagcggtccccgccagtaacgtaccgctgaaccgacgggatgtatccgccccagcgaaggagacggcg',\n",
       " 'tcagcaccatgaccgcctggccaccaatcgcccgtaacaagcgggacgtccgcgacgacgcgtgcgctagcgccgtggcggtgacaacgaccagatatggtccgagcacgcgggcgaacctcgtgttctggcctcggccagttgtgtagagctcatcgctgtcatcgagcgatatccgaccactgatccaagtcgggggctctggggaccgaagtccccgggctcggagctatcggacctcacgatcacc']"
      ]
     },
     "execution_count": 2,
     "metadata": {},
     "output_type": "execute_result"
    }
   ],
   "source": [
    "dna"
   ]
  },
  {
   "cell_type": "code",
   "execution_count": 3,
   "id": "d483621d",
   "metadata": {},
   "outputs": [],
   "source": [
    "from biolib.motifs.motif_finder import *"
   ]
  },
  {
   "cell_type": "code",
   "execution_count": 4,
   "id": "9a6a8c8b",
   "metadata": {},
   "outputs": [
    {
     "name": "stdout",
     "output_type": "stream",
     "text": [
      "Case: 8\n",
      "Random: tcggcggc, Score: 24\n",
      "Gibbs: tcggccag, Score: 21\n",
      "Case: 9\n",
      "Random: cacgtgggc, Score: 22\n",
      "Gibbs: ccccgggcc, Score: 30\n",
      "Case: 10\n",
      "Random: gccccacgag, Score: 32\n",
      "Gibbs: cacttcgggc, Score: 29\n",
      "Case: 11\n",
      "Random: cgcaacgatgc, Score: 39\n",
      "Gibbs: cacgtcgggcc, Score: 35\n",
      "Case: 12\n",
      "Random: gggcacatgacc, Score: 35\n",
      "Gibbs: ccgacgacgggc, Score: 36\n",
      "Case: 13\n",
      "Random: cagccccatggac, Score: 41\n",
      "Gibbs: gaccatcggcccg, Score: 32\n",
      "Case: 14\n",
      "Random: cggcccggtggccg, Score: 47\n",
      "Gibbs: gggccccggccaat, Score: 43\n",
      "Case: 15\n",
      "Random: ctcacgcccttggcc, Score: 58\n",
      "Gibbs: ccttcggcccctgac, Score: 43\n",
      "Case: 16\n",
      "Random: catcgccgcccggcca, Score: 55\n",
      "Gibbs: gcgaggaccacgggcc, Score: 50\n",
      "Case: 17\n",
      "Random: gaggcctcgtccagccg, Score: 72\n",
      "Gibbs: accatcggccccggccc, Score: 55\n",
      "Case: 18\n",
      "Random: gcccccaccaccacgcgg, Score: 72\n",
      "Gibbs: ggaggggaccatcggccc, Score: 54\n",
      "Case: 19\n",
      "Random: gcgcgcacctatgacaccc, Score: 82\n",
      "Gibbs: gggccaggactaccggccc, Score: 62\n",
      "Case: 20\n",
      "Random: gcggcggcgaccaaagcccc, Score: 78\n",
      "Gibbs: aggactacgggccgccagtc, Score: 72\n"
     ]
    }
   ],
   "source": [
    "for i in range(8,21):\n",
    "    rand = randomized_motif_search(dna,i)\n",
    "    gibbs = gibbs_sampler(dna,i,200)\n",
    "    print(f\"Case: {i}\")\n",
    "    print(f\"Random: {rand.consensus()}, Score: {rand.score()}\")\n",
    "    print(f\"Gibbs: {gibbs.consensus()}, Score: {gibbs.score()}\")"
   ]
  },
  {
   "cell_type": "code",
   "execution_count": 5,
   "id": "a2830900",
   "metadata": {},
   "outputs": [],
   "source": [
    "best_random = min([randomized_motif_search(dna,20) for _ in range(20)],key=lambda x: x.score())\n",
    "best_gibbs = min([gibbs_sampler(dna,20,200) for _ in range(20)],key=lambda x: x.score())"
   ]
  },
  {
   "cell_type": "code",
   "execution_count": 6,
   "id": "e6c71f6e",
   "metadata": {},
   "outputs": [
    {
     "data": {
      "text/plain": [
       "('ggaccttcggccccaggcgc', 65)"
      ]
     },
     "execution_count": 6,
     "metadata": {},
     "output_type": "execute_result"
    }
   ],
   "source": [
    "best_random.consensus(),best_random.score()"
   ]
  },
  {
   "cell_type": "code",
   "execution_count": 8,
   "id": "02f78ad1",
   "metadata": {},
   "outputs": [
    {
     "data": {
      "text/plain": [
       "('cgggacctacgtccctagcc', 55)"
      ]
     },
     "execution_count": 8,
     "metadata": {},
     "output_type": "execute_result"
    }
   ],
   "source": [
    "best_gibbs.consensus(),best_gibbs.score()"
   ]
  },
  {
   "cell_type": "code",
   "execution_count": null,
   "id": "ccbc97ca",
   "metadata": {},
   "outputs": [],
   "source": []
  }
 ],
 "metadata": {
  "kernelspec": {
   "display_name": "Python 3",
   "language": "python",
   "name": "python3"
  },
  "language_info": {
   "codemirror_mode": {
    "name": "ipython",
    "version": 3
   },
   "file_extension": ".py",
   "mimetype": "text/x-python",
   "name": "python",
   "nbconvert_exporter": "python",
   "pygments_lexer": "ipython3",
   "version": "3.13.1"
  }
 },
 "nbformat": 4,
 "nbformat_minor": 5
}

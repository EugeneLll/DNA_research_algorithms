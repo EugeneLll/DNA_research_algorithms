{
 "cells": [
  {
   "cell_type": "code",
   "execution_count": 1,
   "id": "e99040f8",
   "metadata": {},
   "outputs": [],
   "source": [
    "dna=[]\n",
    "with open(\"files/TB.fna\",\"r\") as f:\n",
    "    dna=list(map(lambda x:x.replace(\"\\n\",\"\").lower(),f.readlines()))"
   ]
  },
  {
   "cell_type": "code",
   "execution_count": 2,
   "id": "9c824617",
   "metadata": {},
   "outputs": [
    {
     "data": {
      "text/plain": [
       "['gcgccccgcccggacagccatgcgctaaccctggcttcgatggcgccggctcagttagggccggaagtccccaatgtggcagacctttcgcccctggcggacgaatgaccccagtggccgggacttcaggccctatcggagggctccggcgcggtggtcggatttgtctgtggaggttacaccccaatcgcaaggatgcattatgaccagcgagctgagcctggtcgccactggaaaggggagcaacatc',\n",
       " 'ccgatcggcatcactatcggtcctgcggccgcccatagcgctatatccggctggtgaaatcaattgacaaccttcgactttgaggtggcctacggcgaggacaagccaggcaagccagctgcctcaacgcgcgccagtacgggtccatcgacccgcggcccacgggtcaaacgaccctagtgttcgctacgacgtggtcgtaccttcggcagcagatcagcaatagcaccccgactcgaggaggatcccg',\n",
       " 'accgtcgatgtgcccggtcgcgccgcgtccacctcggtcatcgaccccacgatgaggacgccatcggccgcgaccaagccccgtgaaactctgacggcgtgctggccgggctgcggcacctgatcaccttagggcacttgggccaccacaacgggccgccggtctcgacagtggccaccaccacacaggtgacttccggcgggacgtaagtccctaacgcgtcgttccgcacgcggttagctttgctgcc',\n",
       " 'gggtcaggtatatttatcgcacacttgggcacatgacacacaagcgccagaatcccggaccgaaccgagcaccgtgggtgggcagcctccatacagcgatgacctgatcgatcatcggccagggcgccgggcttccaaccgtggccgtctcagtacccagcctcattgacccttcgacgcatccactgcgcgtaagtcggctcaaccctttcaaaccgctggattaccgaccgcagaaagggggcaggac',\n",
       " 'gtaggtcaaaccgggtgtacatacccgctcaatcgcccagcacttcgggcagatcaccgggtttccccggtatcaccaatactgccaccaaacacagcaggcgggaaggggcgaaagtcccttatccgacaataaaacttcgcttgttcgacgcccggttcacccgatatgcacggcgcccagccattcgtgaccgacgtccccagccccaaggccgaacgaccctaggagccacgagcaattcacagcg',\n",
       " 'ccgctggcgacgctgttcgccggcagcgtgcgtgacgacttcgagctgcccgactacacctggtgaccaccgccgacgggcacctctccgccaggtaggcacggtttgtcgccggcaatgtgacctttgggcgcggtcttgaggaccttcggccccacccacgaggccgccgccggccgatcgtatgacgtgcaatgtacgccatagggtgcgtgttacggcgattacctgaaggcggcggtggtccgga',\n",
       " 'ggccaactgcaccgcgctcttgatgacatcggtggtcaccatggtgtccggcatgatcaacctccgctgttcgatatcaccccgatctttctgaacggcggttggcagacaacagggtcaatggtccccaagtggatcaccgacgggcgcggacaaatggcccgcgcttcggggacttctgtccctagccctggccacgatgggctggtcggatcaaaggcatccgtttccatcgattaggaggcatcaa',\n",
       " 'gtacatgtccagagcgagcctcagcttctgcgcagcgacggaaactgccacactcaaagcctactgggcgcacgtgtggcaacgagtcgatccacacgaaatgccgccgttgggccgcggactagccgaattttccgggtggtgacacagcccacatttggcatgggactttcggccctgtccgcgtccgtgtcggccagacaagctttgggcattggccacaatcgggccacaatcgaaagccgagcag',\n",
       " 'ggcagctgtcggcaactgtaagccatttctgggactttgctgtgaaaagctgggcgatggttgtggacctggacgagccacccgtgcgataggtgagattcattctcgccctgacgggttgcgtctgtcatcggtcgataaggactaacggccctcaggtggggaccaacgcccctgggagatagcggtccccgccagtaacgtaccgctgaaccgacgggatgtatccgccccagcgaaggagacggcg',\n",
       " 'tcagcaccatgaccgcctggccaccaatcgcccgtaacaagcgggacgtccgcgacgacgcgtgcgctagcgccgtggcggtgacaacgaccagatatggtccgagcacgcgggcgaacctcgtgttctggcctcggccagttgtgtagagctcatcgctgtcatcgagcgatatccgaccactgatccaagtcgggggctctggggaccgaagtccccgggctcggagctatcggacctcacgatcacc']"
      ]
     },
     "execution_count": 2,
     "metadata": {},
     "output_type": "execute_result"
    }
   ],
   "source": [
    "dna"
   ]
  },
  {
   "cell_type": "code",
   "execution_count": 3,
   "id": "d483621d",
   "metadata": {},
   "outputs": [],
   "source": [
    "from biolib.motifs.motif_finder import *"
   ]
  },
  {
   "cell_type": "code",
   "execution_count": null,
   "id": "9a6a8c8b",
   "metadata": {},
   "outputs": [
    {
     "name": "stdout",
     "output_type": "stream",
     "text": [
      "0\n",
      "1\n",
      "2\n"
     ]
    },
    {
     "name": "stderr",
     "output_type": "stream",
     "text": [
      "c:\\Users\\Lenovo\\kursach\\biolib\\motifs\\motif.py:113: RuntimeWarning: invalid value encountered in scalar divide\n",
      "  return [i / sum(probs) for i in probs]\n"
     ]
    },
    {
     "ename": "ValueError",
     "evalue": "Total of weights must be finite",
     "output_type": "error",
     "traceback": [
      "\u001b[1;31m---------------------------------------------------------------------------\u001b[0m",
      "\u001b[1;31mValueError\u001b[0m                                Traceback (most recent call last)",
      "Cell \u001b[1;32mIn[4], line 3\u001b[0m\n\u001b[0;32m      1\u001b[0m \u001b[38;5;28;01mfor\u001b[39;00m i \u001b[38;5;129;01min\u001b[39;00m \u001b[38;5;28mrange\u001b[39m(\u001b[38;5;241m8\u001b[39m,\u001b[38;5;241m21\u001b[39m):\n\u001b[0;32m      2\u001b[0m     rand \u001b[38;5;241m=\u001b[39m randomized_motif_search(dna,i)\n\u001b[1;32m----> 3\u001b[0m     gibbs \u001b[38;5;241m=\u001b[39m \u001b[43mgibbs_sampler\u001b[49m\u001b[43m(\u001b[49m\u001b[43mdna\u001b[49m\u001b[43m,\u001b[49m\u001b[43mi\u001b[49m\u001b[43m,\u001b[49m\u001b[38;5;241;43m2000\u001b[39;49m\u001b[43m)\u001b[49m\n\u001b[0;32m      4\u001b[0m     \u001b[38;5;66;03m#median = median_string(dna,i)\u001b[39;00m\n\u001b[0;32m      5\u001b[0m     \u001b[38;5;28mprint\u001b[39m(\u001b[38;5;124mf\u001b[39m\u001b[38;5;124m\"\u001b[39m\u001b[38;5;124mCase: \u001b[39m\u001b[38;5;132;01m{\u001b[39;00mi\u001b[38;5;132;01m}\u001b[39;00m\u001b[38;5;124m\"\u001b[39m)\n",
      "File \u001b[1;32mc:\\Users\\Lenovo\\kursach\\biolib\\motifs\\motif_finder.py:87\u001b[0m, in \u001b[0;36mgibbs_sampler\u001b[1;34m(dna, k, n)\u001b[0m\n\u001b[0;32m     85\u001b[0m j \u001b[38;5;241m=\u001b[39m random\u001b[38;5;241m.\u001b[39mrandint(\u001b[38;5;241m0\u001b[39m, \u001b[38;5;28mlen\u001b[39m(dna) \u001b[38;5;241m-\u001b[39m \u001b[38;5;241m1\u001b[39m)\n\u001b[0;32m     86\u001b[0m destr \u001b[38;5;241m=\u001b[39m motif\u001b[38;5;241m.\u001b[39mprofile_destr(dna, j)\n\u001b[1;32m---> 87\u001b[0m choise \u001b[38;5;241m=\u001b[39m \u001b[43mrandom\u001b[49m\u001b[38;5;241;43m.\u001b[39;49m\u001b[43mchoices\u001b[49m\u001b[43m(\u001b[49m\u001b[38;5;28;43mrange\u001b[39;49m\u001b[43m(\u001b[49m\u001b[38;5;28;43mlen\u001b[39;49m\u001b[43m(\u001b[49m\u001b[43mdna\u001b[49m\u001b[43m[\u001b[49m\u001b[38;5;241;43m0\u001b[39;49m\u001b[43m]\u001b[49m\u001b[43m)\u001b[49m\u001b[43m \u001b[49m\u001b[38;5;241;43m-\u001b[39;49m\u001b[43m \u001b[49m\u001b[43mk\u001b[49m\u001b[43m \u001b[49m\u001b[38;5;241;43m+\u001b[39;49m\u001b[43m \u001b[49m\u001b[38;5;241;43m1\u001b[39;49m\u001b[43m)\u001b[49m\u001b[43m,\u001b[49m\u001b[43m \u001b[49m\u001b[43mweights\u001b[49m\u001b[38;5;241;43m=\u001b[39;49m\u001b[43mdestr\u001b[49m\u001b[43m)\u001b[49m[\u001b[38;5;241m0\u001b[39m]\n\u001b[0;32m     88\u001b[0m new_motif \u001b[38;5;241m=\u001b[39m dna[j][choise : choise \u001b[38;5;241m+\u001b[39m k]\n\u001b[0;32m     89\u001b[0m motifs \u001b[38;5;241m=\u001b[39m motif\u001b[38;5;241m.\u001b[39mas_list()\n",
      "File \u001b[1;32mc:\\Users\\Lenovo\\AppData\\Local\\Programs\\Python\\Python313\\Lib\\random.py:489\u001b[0m, in \u001b[0;36mRandom.choices\u001b[1;34m(self, population, weights, cum_weights, k)\u001b[0m\n\u001b[0;32m    487\u001b[0m     \u001b[38;5;28;01mraise\u001b[39;00m \u001b[38;5;167;01mValueError\u001b[39;00m(\u001b[38;5;124m'\u001b[39m\u001b[38;5;124mTotal of weights must be greater than zero\u001b[39m\u001b[38;5;124m'\u001b[39m)\n\u001b[0;32m    488\u001b[0m \u001b[38;5;28;01mif\u001b[39;00m \u001b[38;5;129;01mnot\u001b[39;00m _isfinite(total):\n\u001b[1;32m--> 489\u001b[0m     \u001b[38;5;28;01mraise\u001b[39;00m \u001b[38;5;167;01mValueError\u001b[39;00m(\u001b[38;5;124m'\u001b[39m\u001b[38;5;124mTotal of weights must be finite\u001b[39m\u001b[38;5;124m'\u001b[39m)\n\u001b[0;32m    490\u001b[0m bisect \u001b[38;5;241m=\u001b[39m _bisect\n\u001b[0;32m    491\u001b[0m hi \u001b[38;5;241m=\u001b[39m n \u001b[38;5;241m-\u001b[39m \u001b[38;5;241m1\u001b[39m\n",
      "\u001b[1;31mValueError\u001b[0m: Total of weights must be finite"
     ]
    }
   ],
   "source": [
    "for i in range(8,21):\n",
    "    rand = randomized_motif_search(dna,i)\n",
    "    #gibbs = gibbs_sampler(dna,i,2000)\n",
    "    #median = median_string(dna,i)\n",
    "    print(f\"Case: {i}\")\n",
    "    print(f\"Random: {rand.consensus()}, Score: {rand.score()}\")\n",
    "    #print(f\"Gibbs: {gibbs.consensus()}, Score: {gibbs.score()}\")\n",
    "    #print(f\"Median: {median[0]}, Score: {median[1]}\")"
   ]
  },
  {
   "cell_type": "code",
   "execution_count": null,
   "id": "a2830900",
   "metadata": {},
   "outputs": [],
   "source": []
  }
 ],
 "metadata": {
  "kernelspec": {
   "display_name": "Python 3",
   "language": "python",
   "name": "python3"
  },
  "language_info": {
   "codemirror_mode": {
    "name": "ipython",
    "version": 3
   },
   "file_extension": ".py",
   "mimetype": "text/x-python",
   "name": "python",
   "nbconvert_exporter": "python",
   "pygments_lexer": "ipython3",
   "version": "3.13.1"
  }
 },
 "nbformat": 4,
 "nbformat_minor": 5
}

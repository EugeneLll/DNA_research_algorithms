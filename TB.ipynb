{
 "cells": [
  {
   "cell_type": "code",
   "execution_count": 1,
   "id": "e99040f8",
   "metadata": {},
   "outputs": [],
   "source": [
    "dna=[]\n",
    "with open(\"files/TB.fna\",\"r\") as f:\n",
    "    dna=list(map(lambda x:x.replace(\"\\n\",\"\").lower(),f.readlines()))"
   ]
  },
  {
   "cell_type": "code",
   "execution_count": 2,
   "id": "9c824617",
   "metadata": {},
   "outputs": [
    {
     "data": {
      "text/plain": [
       "['gcgccccgcccggacagccatgcgctaaccctggcttcgatggcgccggctcagttagggccggaagtccccaatgtggcagacctttcgcccctggcggacgaatgaccccagtggccgggacttcaggccctatcggagggctccggcgcggtggtcggatttgtctgtggaggttacaccccaatcgcaaggatgcattatgaccagcgagctgagcctggtcgccactggaaaggggagcaacatc',\n",
       " 'ccgatcggcatcactatcggtcctgcggccgcccatagcgctatatccggctggtgaaatcaattgacaaccttcgactttgaggtggcctacggcgaggacaagccaggcaagccagctgcctcaacgcgcgccagtacgggtccatcgacccgcggcccacgggtcaaacgaccctagtgttcgctacgacgtggtcgtaccttcggcagcagatcagcaatagcaccccgactcgaggaggatcccg',\n",
       " 'accgtcgatgtgcccggtcgcgccgcgtccacctcggtcatcgaccccacgatgaggacgccatcggccgcgaccaagccccgtgaaactctgacggcgtgctggccgggctgcggcacctgatcaccttagggcacttgggccaccacaacgggccgccggtctcgacagtggccaccaccacacaggtgacttccggcgggacgtaagtccctaacgcgtcgttccgcacgcggttagctttgctgcc',\n",
       " 'gggtcaggtatatttatcgcacacttgggcacatgacacacaagcgccagaatcccggaccgaaccgagcaccgtgggtgggcagcctccatacagcgatgacctgatcgatcatcggccagggcgccgggcttccaaccgtggccgtctcagtacccagcctcattgacccttcgacgcatccactgcgcgtaagtcggctcaaccctttcaaaccgctggattaccgaccgcagaaagggggcaggac',\n",
       " 'gtaggtcaaaccgggtgtacatacccgctcaatcgcccagcacttcgggcagatcaccgggtttccccggtatcaccaatactgccaccaaacacagcaggcgggaaggggcgaaagtcccttatccgacaataaaacttcgcttgttcgacgcccggttcacccgatatgcacggcgcccagccattcgtgaccgacgtccccagccccaaggccgaacgaccctaggagccacgagcaattcacagcg',\n",
       " 'ccgctggcgacgctgttcgccggcagcgtgcgtgacgacttcgagctgcccgactacacctggtgaccaccgccgacgggcacctctccgccaggtaggcacggtttgtcgccggcaatgtgacctttgggcgcggtcttgaggaccttcggccccacccacgaggccgccgccggccgatcgtatgacgtgcaatgtacgccatagggtgcgtgttacggcgattacctgaaggcggcggtggtccgga',\n",
       " 'ggccaactgcaccgcgctcttgatgacatcggtggtcaccatggtgtccggcatgatcaacctccgctgttcgatatcaccccgatctttctgaacggcggttggcagacaacagggtcaatggtccccaagtggatcaccgacgggcgcggacaaatggcccgcgcttcggggacttctgtccctagccctggccacgatgggctggtcggatcaaaggcatccgtttccatcgattaggaggcatcaa',\n",
       " 'gtacatgtccagagcgagcctcagcttctgcgcagcgacggaaactgccacactcaaagcctactgggcgcacgtgtggcaacgagtcgatccacacgaaatgccgccgttgggccgcggactagccgaattttccgggtggtgacacagcccacatttggcatgggactttcggccctgtccgcgtccgtgtcggccagacaagctttgggcattggccacaatcgggccacaatcgaaagccgagcag',\n",
       " 'ggcagctgtcggcaactgtaagccatttctgggactttgctgtgaaaagctgggcgatggttgtggacctggacgagccacccgtgcgataggtgagattcattctcgccctgacgggttgcgtctgtcatcggtcgataaggactaacggccctcaggtggggaccaacgcccctgggagatagcggtccccgccagtaacgtaccgctgaaccgacgggatgtatccgccccagcgaaggagacggcg',\n",
       " 'tcagcaccatgaccgcctggccaccaatcgcccgtaacaagcgggacgtccgcgacgacgcgtgcgctagcgccgtggcggtgacaacgaccagatatggtccgagcacgcgggcgaacctcgtgttctggcctcggccagttgtgtagagctcatcgctgtcatcgagcgatatccgaccactgatccaagtcgggggctctggggaccgaagtccccgggctcggagctatcggacctcacgatcacc']"
      ]
     },
     "execution_count": 2,
     "metadata": {},
     "output_type": "execute_result"
    }
   ],
   "source": [
    "dna"
   ]
  },
  {
   "cell_type": "code",
   "execution_count": 3,
   "id": "d483621d",
   "metadata": {},
   "outputs": [],
   "source": [
    "from biolib.motifs.motif_finder import *"
   ]
  },
  {
   "cell_type": "code",
   "execution_count": null,
   "id": "9a6a8c8b",
   "metadata": {},
   "outputs": [
    {
     "name": "stdout",
     "output_type": "stream",
     "text": [
      "Case: 8\n",
      "Random: ggcccagc, Score: 21\n",
      "Gibbs: gccgccgg, Score: 18\n",
      "Case: 9\n",
      "Random: acggccccc, Score: 26\n",
      "Gibbs: ccatggcgg, Score: 27\n",
      "Case: 10\n",
      "Random: gcccttcggc, Score: 27\n",
      "Gibbs: cggcccgatc, Score: 31\n",
      "Case: 11\n",
      "Random: cgccgtcggcc, Score: 32\n",
      "Gibbs: ccgtggccgcc, Score: 34\n",
      "Case: 12\n",
      "Random: gcgccggggcgg, Score: 38\n",
      "Gibbs: cgccccggggag, Score: 40\n",
      "Case: 13\n",
      "Random: ggccctagccgcg, Score: 42\n",
      "Gibbs: gccgcacccgggc, Score: 44\n"
     ]
    }
   ],
   "source": [
    "for i in range(8,21):\n",
    "    rand = randomized_motif_search(dna,i)\n",
    "    gibbs = gibbs_sampler(dna,i,200)\n",
    "    print(f\"Case: {i}\")\n",
    "    print(f\"Random: {rand.consensus()}, Score: {rand.score()}\")\n",
    "    print(f\"Gibbs: {gibbs.consensus()}, Score: {gibbs.score()}\")"
   ]
  },
  {
   "cell_type": "code",
   "execution_count": null,
   "id": "a2830900",
   "metadata": {},
   "outputs": [],
   "source": [
    "best_random = min([randomized_motif_search(dna,20) for _ in range(20)],key=lambda x: x.score())\n",
    "best_gibbs = min([gibbs_sampler(dna,20,200) for _ in range(20)],key=lambda x: x.score())"
   ]
  }
 ],
 "metadata": {
  "kernelspec": {
   "display_name": "Python 3",
   "language": "python",
   "name": "python3"
  },
  "language_info": {
   "codemirror_mode": {
    "name": "ipython",
    "version": 3
   },
   "file_extension": ".py",
   "mimetype": "text/x-python",
   "name": "python",
   "nbconvert_exporter": "python",
   "pygments_lexer": "ipython3",
   "version": "3.13.1"
  }
 },
 "nbformat": 4,
 "nbformat_minor": 5
}
